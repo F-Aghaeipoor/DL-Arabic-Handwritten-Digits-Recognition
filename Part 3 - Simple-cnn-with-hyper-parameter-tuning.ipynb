{
 "cells": [
  {
   "cell_type": "markdown",
   "metadata": {},
   "source": [
    "# STEPS:\n",
    "\n",
    "1. Normalization and reshaping image data\n",
    "2. One Hot Encoding Labels\n",
    "3. Splitting into train/test sets\n",
    "4. Image Augmentation using ImageDataGenerator *\n",
    "5. Custom Callback/LR Scheduling and choosing Optimizer\n",
    "6. Making Model Architecture and compile model\n",
    "7. Fit data into DataGenerator object\n",
    "8. Plot Accuracy, Losses "
   ]
  },
  {
   "cell_type": "code",
   "execution_count": 2,
   "metadata": {
    "_cell_guid": "b1076dfc-b9ad-4769-8c92-a6c4dae69d19",
    "_uuid": "8f2839f25d086af736a60e9eeb907d3b93b6e0e5"
   },
   "outputs": [
    {
     "name": "stdout",
     "output_type": "stream",
     "text": [
      "/kaggle/input/ahdd1/csvTrainImages 60k x 784.csv\n",
      "/kaggle/input/ahdd1/csvTestLabel 10k x 1.csv\n",
      "/kaggle/input/ahdd1/csvTrainLabel 60k x 1.csv\n",
      "/kaggle/input/ahdd1/Train + Test Matlab.mat\n",
      "/kaggle/input/ahdd1/csvTestImages 10k x 784.csv\n",
      "/kaggle/input/ahdd1/csvTrainImages 60k x 784/csvTrainImages 60k x 784.csv\n",
      "/kaggle/input/ahdd1/Arabic Handwritten Digits Dataset CSV/csvTrainImages 60k x 784.csv\n",
      "/kaggle/input/ahdd1/Arabic Handwritten Digits Dataset CSV/csvTestLabel 10k x 1.csv\n",
      "/kaggle/input/ahdd1/Arabic Handwritten Digits Dataset CSV/csvTrainLabel 60k x 1.csv\n",
      "/kaggle/input/ahdd1/Arabic Handwritten Digits Dataset CSV/csvTestImages 10k x 784.csv\n"
     ]
    }
   ],
   "source": [
    "import numpy as np \n",
    "import pandas as pd \n",
    "import matplotlib.pyplot as plt\n",
    "import matplotlib.image as mpimg\n",
    "\n",
    "from sklearn.model_selection import train_test_split\n",
    "from sklearn.metrics import confusion_matrix\n",
    "from sklearn.preprocessing import OneHotEncoder\n",
    "from sklearn.model_selection import KFold\n",
    "\n",
    "import tensorflow as tf\n",
    "from keras.models import Sequential\n",
    "from keras.layers import Dense, Conv2D, Flatten,MaxPool2D,Dropout,LSTM\n",
    "from keras.optimizers import RMSprop, Adam, Nadam\n",
    "from keras.callbacks import ReduceLROnPlateau\n",
    "from keras.preprocessing.image import ImageDataGenerator\n",
    "from keras.utils.np_utils import to_categorical\n",
    "\n",
    "# Managing Warnings \n",
    "import warnings\n",
    "warnings.filterwarnings('ignore')\n",
    "\n",
    "import os\n",
    "for dirname, _, filenames in os.walk('/kaggle/input'):\n",
    "    for filename in filenames:\n",
    "        print(os.path.join(dirname, filename))"
   ]
  },
  {
   "cell_type": "code",
   "execution_count": 3,
   "metadata": {},
   "outputs": [
    {
     "name": "stdout",
     "output_type": "stream",
     "text": [
      "X_train :  (59999, 784) , y_train (59999, 1)\n",
      "X_test  :  (9999, 784)  , y_test  (9999, 1)\n"
     ]
    }
   ],
   "source": [
    "X_train = pd.read_csv('/kaggle/input/ahdd1/csvTrainImages 60k x 784.csv')\n",
    "y_train = pd.read_csv('/kaggle/input/ahdd1/Arabic Handwritten Digits Dataset CSV/csvTrainLabel 60k x 1.csv')\n",
    "X_test = pd.read_csv('/kaggle/input/ahdd1/csvTestImages 10k x 784.csv')\n",
    "y_test = pd.read_csv('/kaggle/input/ahdd1/Arabic Handwritten Digits Dataset CSV/csvTestLabel 10k x 1.csv')\n",
    "print('X_train : ',X_train.shape,', y_train', y_train.shape)\n",
    "print('X_test  : ',X_test.shape,' , y_test ', y_test.shape)"
   ]
  },
  {
   "cell_type": "code",
   "execution_count": 4,
   "metadata": {},
   "outputs": [],
   "source": [
    "# Normalise and reshape\n",
    "X_train=X_train.values.reshape((-1,28,28,1))/255.0\n",
    "X_test=X_test.values.reshape((-1,28,28,1))/255.0"
   ]
  },
  {
   "cell_type": "code",
   "execution_count": 5,
   "metadata": {},
   "outputs": [
    {
     "data": {
      "text/plain": [
       "array([[0., 1., 0., ..., 0., 0., 0.],\n",
       "       [0., 0., 1., ..., 0., 0., 0.],\n",
       "       [0., 0., 0., ..., 0., 0., 0.],\n",
       "       ...,\n",
       "       [0., 0., 0., ..., 1., 0., 0.],\n",
       "       [0., 0., 0., ..., 0., 1., 0.],\n",
       "       [0., 0., 0., ..., 0., 0., 1.]], dtype=float32)"
      ]
     },
     "execution_count": 5,
     "metadata": {},
     "output_type": "execute_result"
    }
   ],
   "source": [
    "# OnehotEncode y_train\n",
    "y_train=to_categorical(y_train, num_classes=10)\n",
    "y_train"
   ]
  },
  {
   "cell_type": "code",
   "execution_count": 6,
   "metadata": {},
   "outputs": [],
   "source": [
    "# Split into Train and validation\n",
    "X_train,X_valid,y_train, y_valid = train_test_split(X_train, y_train,\n",
    "                                                     test_size=0.1,\n",
    "                                                     shuffle=True)\n",
    "# Data Augmentation to reduce bias\n",
    "datagen = ImageDataGenerator(\n",
    "        featurewise_center=False,  # set input mean to 0 over the dataset\n",
    "        samplewise_center=False,  # set each sample mean to 0\n",
    "        featurewise_std_normalization=False,  # divide inputs by std of the dataset\n",
    "        samplewise_std_normalization=False,  # divide each input by its std\n",
    "        zca_whitening=False,  # apply ZCA whitening\n",
    "        #rotation_range=10,  # randomly rotate images in the range (degrees, 0 to 180)\n",
    "        zoom_range = 0.1, # Randomly zoom image \n",
    "        width_shift_range=0.1,  # randomly shift images horizontally (fraction of total width)\n",
    "        height_shift_range=0.1,  # randomly shift images vertically (fraction of total height)\n",
    "        horizontal_flip=False,  # randomly flip images\n",
    "        vertical_flip=False)  # randomly flip images\n",
    "\n",
    "\n",
    "datagen.fit(X_train)"
   ]
  },
  {
   "cell_type": "code",
   "execution_count": 7,
   "metadata": {
    "_cell_guid": "79c7e3d0-c299-4dcb-8224-4455121ee9b0",
    "_uuid": "d629ff2d2480ee46fbb7e2d37f6b5fab8052498a"
   },
   "outputs": [],
   "source": [
    "# Early Stopping\n",
    "class custom_callback(tf.keras.callbacks.Callback):\n",
    "    def on_epoch_end(self,epoch,logs={}):\n",
    "        if(logs.get('accuracy')>0.92):\n",
    "            self.model.stop_training=True\n",
    "            \n",
    "# LR Scheduler\n",
    "learning_rate_reduction = ReduceLROnPlateau(monitor='val_acc', \n",
    "                                            patience=3, \n",
    "                                            verbose=1, \n",
    "                                            factor=0.5, \n",
    "                                            min_lr=0.00001)\n"
   ]
  },
  {
   "cell_type": "code",
   "execution_count": 8,
   "metadata": {},
   "outputs": [],
   "source": [
    "# MODEL\n",
    "def build_model():\n",
    "    model = Sequential()\n",
    "    model.add(Conv2D(filters=32, kernel_size=(5,5),padding='Same',\n",
    "                activation='relu', input_shape=(28,28,1)))\n",
    "    model.add(Conv2D(filters=32, kernel_size=(5,5),padding='Same',\n",
    "                activation='relu', input_shape=(28,28,1)))\n",
    "    model.add(MaxPool2D(pool_size=(2,2)))\n",
    "    model.add(Dropout(0.3))\n",
    "\n",
    "    model.add(Conv2D(filters=64, kernel_size=(3,3),padding='Same',\n",
    "                activation='relu', input_shape=(28,28,1)))\n",
    "    model.add(Conv2D(filters=64, kernel_size=(3,3),padding='Same',\n",
    "                activation='relu', input_shape=(28,28,1)))\n",
    "    model.add(MaxPool2D(pool_size=(2,2)))\n",
    "    model.add(Dropout(0.4))\n",
    "\n",
    "    model.add(Flatten())\n",
    "    model.add(Dense(256,activation='relu'))\n",
    "    model.add(Dropout((0.4)))\n",
    "    model.add(Dense(10,activation='softmax'))\n",
    "    return model"
   ]
  },
  {
   "cell_type": "code",
   "execution_count": 9,
   "metadata": {},
   "outputs": [],
   "source": [
    "# Define the optimizer\n",
    "optimizer = RMSprop(lr=0.001, rho=0.9, epsilon=1e-08, decay=0.0)\n",
    "# Compile the model\n",
    "model = build_model()\n",
    "model.compile(optimizer = optimizer , loss = \"categorical_crossentropy\", metrics=[\"accuracy\"])"
   ]
  },
  {
   "cell_type": "code",
   "execution_count": 10,
   "metadata": {},
   "outputs": [
    {
     "name": "stdout",
     "output_type": "stream",
     "text": [
      "Model: \"sequential\"\n",
      "_________________________________________________________________\n",
      "Layer (type)                 Output Shape              Param #   \n",
      "=================================================================\n",
      "conv2d (Conv2D)              (None, 28, 28, 32)        832       \n",
      "_________________________________________________________________\n",
      "conv2d_1 (Conv2D)            (None, 28, 28, 32)        25632     \n",
      "_________________________________________________________________\n",
      "max_pooling2d (MaxPooling2D) (None, 14, 14, 32)        0         \n",
      "_________________________________________________________________\n",
      "dropout (Dropout)            (None, 14, 14, 32)        0         \n",
      "_________________________________________________________________\n",
      "conv2d_2 (Conv2D)            (None, 14, 14, 64)        18496     \n",
      "_________________________________________________________________\n",
      "conv2d_3 (Conv2D)            (None, 14, 14, 64)        36928     \n",
      "_________________________________________________________________\n",
      "max_pooling2d_1 (MaxPooling2 (None, 7, 7, 64)          0         \n",
      "_________________________________________________________________\n",
      "dropout_1 (Dropout)          (None, 7, 7, 64)          0         \n",
      "_________________________________________________________________\n",
      "flatten (Flatten)            (None, 3136)              0         \n",
      "_________________________________________________________________\n",
      "dense (Dense)                (None, 256)               803072    \n",
      "_________________________________________________________________\n",
      "dropout_2 (Dropout)          (None, 256)               0         \n",
      "_________________________________________________________________\n",
      "dense_1 (Dense)              (None, 10)                2570      \n",
      "=================================================================\n",
      "Total params: 887,530\n",
      "Trainable params: 887,530\n",
      "Non-trainable params: 0\n",
      "_________________________________________________________________\n"
     ]
    }
   ],
   "source": [
    "model.summary() "
   ]
  },
  {
   "cell_type": "code",
   "execution_count": 11,
   "metadata": {},
   "outputs": [
    {
     "name": "stdout",
     "output_type": "stream",
     "text": [
      "Epoch 1/10\n",
      "844/844 - 20s - loss: 0.1726 - accuracy: 0.9464 - val_loss: 0.0482 - val_accuracy: 0.9863 - lr: 0.0010\n",
      "Epoch 2/10\n",
      "844/844 - 20s - loss: 0.0584 - accuracy: 0.9836 - val_loss: 0.0230 - val_accuracy: 0.9935 - lr: 0.0010\n",
      "Epoch 3/10\n",
      "844/844 - 20s - loss: 0.0464 - accuracy: 0.9872 - val_loss: 0.0165 - val_accuracy: 0.9952 - lr: 0.0010\n",
      "Epoch 4/10\n",
      "844/844 - 20s - loss: 0.0465 - accuracy: 0.9874 - val_loss: 0.0245 - val_accuracy: 0.9928 - lr: 0.0010\n",
      "Epoch 5/10\n",
      "844/844 - 20s - loss: 0.0419 - accuracy: 0.9886 - val_loss: 0.0175 - val_accuracy: 0.9950 - lr: 0.0010\n",
      "Epoch 6/10\n",
      "844/844 - 20s - loss: 0.0446 - accuracy: 0.9885 - val_loss: 0.0321 - val_accuracy: 0.9925 - lr: 0.0010\n",
      "Epoch 7/10\n",
      "844/844 - 20s - loss: 0.0427 - accuracy: 0.9891 - val_loss: 0.0265 - val_accuracy: 0.9952 - lr: 0.0010\n",
      "Epoch 8/10\n",
      "844/844 - 19s - loss: 0.0467 - accuracy: 0.9886 - val_loss: 0.0179 - val_accuracy: 0.9943 - lr: 0.0010\n",
      "Epoch 9/10\n",
      "844/844 - 20s - loss: 0.0454 - accuracy: 0.9890 - val_loss: 0.0173 - val_accuracy: 0.9955 - lr: 0.0010\n",
      "Epoch 10/10\n",
      "844/844 - 20s - loss: 0.0455 - accuracy: 0.9890 - val_loss: 0.0240 - val_accuracy: 0.9950 - lr: 0.0010\n"
     ]
    }
   ],
   "source": [
    "epochs=10\n",
    "batch_size=64\n",
    "# Fit the model\n",
    "history = model.fit_generator(datagen.flow(X_train,y_train, batch_size=batch_size),\n",
    "                              epochs = epochs, validation_data = (X_valid,y_valid),\n",
    "                              verbose = 2, callbacks=[learning_rate_reduction])"
   ]
  },
  {
   "cell_type": "code",
   "execution_count": 12,
   "metadata": {},
   "outputs": [
    {
     "data": {
      "text/plain": [
       "<matplotlib.axes._subplots.AxesSubplot at 0x7f4529c71b50>"
      ]
     },
     "execution_count": 12,
     "metadata": {},
     "output_type": "execute_result"
    },
    {
     "data": {
      "image/png": "[encoded data removed]",
      "text/plain": [
       "<Figure size 720x432 with 1 Axes>"
      ]
     },
     "metadata": {
      "needs_background": "light"
     },
     "output_type": "display_data"
    }
   ],
   "source": [
    "pd.DataFrame(history.history).plot(figsize=(10,6))"
   ]
  },
  {
   "cell_type": "code",
   "execution_count": 13,
   "metadata": {},
   "outputs": [
    {
     "name": "stdout",
     "output_type": "stream",
     "text": [
      "313/313 [==============================] - 1s 3ms/step - loss: 0.0390 - accuracy: 0.9927\n"
     ]
    },
    {
     "data": {
      "text/plain": [
       "[0.03899863362312317, 0.9926992654800415]"
      ]
     },
     "execution_count": 13,
     "metadata": {},
     "output_type": "execute_result"
    }
   ],
   "source": [
    "y_pred = model.predict(X_test)\n",
    "y_test = to_categorical(y_test,num_classes=10)\n",
    "model.evaluate(X_test,y_test)"
   ]
  },
  {
   "cell_type": "code",
   "execution_count": 2,
   "metadata": {
    "ExecuteTime": {
     "end_time": "2021-04-17T08:59:31.068995Z",
     "start_time": "2021-04-17T08:59:30.839840Z"
    }
   },
   "outputs": [
    {
     "name": "stdout",
     "output_type": "stream",
     "text": [
      "mission done!\n"
     ]
    }
   ],
   "source": [
    "import pickle\n",
    "filename = 'CNN_Model1.sav'\n",
    "output_path='/output/kaggle/working/'\n",
    "pickle.dump(model, open(output_path+filename, 'wb')) \n",
    "print('mission done!')"
   ]
  },
  {
   "cell_type": "code",
   "execution_count": 18,
   "metadata": {},
   "outputs": [],
   "source": [
    "model.save('/output/kaggle/working/CNN-model.model')"
   ]
  }
 ],
 "metadata": {
  "kernelspec": {
   "display_name": "Python 3",
   "language": "python",
   "name": "python3"
  },
  "language_info": {
   "codemirror_mode": {
    "name": "ipython",
    "version": 3
   },
   "file_extension": ".py",
   "mimetype": "text/x-python",
   "name": "python",
   "nbconvert_exporter": "python",
   "pygments_lexer": "ipython3",
   "version": "3.7.4"
  },
  "toc": {
   "base_numbering": 1,
   "nav_menu": {},
   "number_sections": true,
   "sideBar": true,
   "skip_h1_title": false,
   "title_cell": "Table of Contents",
   "title_sidebar": "Contents",
   "toc_cell": false,
   "toc_position": {},
   "toc_section_display": true,
   "toc_window_display": false
  }
 },
 "nbformat": 4,
 "nbformat_minor": 4
}
