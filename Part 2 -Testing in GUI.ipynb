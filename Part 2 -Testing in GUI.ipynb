{
 "cells": [
  {
   "cell_type": "markdown",
   "metadata": {},
   "source": [
    "# Imports"
   ]
  },
  {
   "cell_type": "code",
   "execution_count": 1,
   "metadata": {
    "ExecuteTime": {
     "end_time": "2021-04-11T16:22:21.951761Z",
     "start_time": "2021-04-11T16:22:18.528655Z"
    },
    "_cell_guid": "b1076dfc-b9ad-4769-8c92-a6c4dae69d19",
    "_uuid": "8f2839f25d086af736a60e9eeb907d3b93b6e0e5"
   },
   "outputs": [],
   "source": [
    "import numpy as np \n",
    "import pandas as pd \n",
    "\n",
    "import matplotlib.pyplot as plt\n",
    "\n",
    "import pickle\n",
    "\n",
    "import tkinter as tk\n",
    "from PIL import ImageTk,Image,ImageDraw\n",
    "import cv2\n",
    "\n",
    "# Managing Warnings \n",
    "import warnings\n",
    "warnings.filterwarnings('ignore')\n"
   ]
  },
  {
   "cell_type": "markdown",
   "metadata": {},
   "source": [
    "# load the model from disk\n"
   ]
  },
  {
   "cell_type": "code",
   "execution_count": 2,
   "metadata": {
    "ExecuteTime": {
     "end_time": "2021-04-11T16:22:30.604554Z",
     "start_time": "2021-04-11T16:22:21.951761Z"
    }
   },
   "outputs": [
    {
     "name": "stdout",
     "output_type": "stream",
     "text": [
      "mission done!\n"
     ]
    }
   ],
   "source": [
    "filename = 'clf.sav'\n",
    "output_path='./output/'\n",
    "clf = pickle.load(open(output_path+filename, 'rb'))\n",
    "print('mission done!')"
   ]
  },
  {
   "cell_type": "markdown",
   "metadata": {},
   "source": [
    "# Design a GUI using tkinter"
   ]
  },
  {
   "cell_type": "code",
   "execution_count": 3,
   "metadata": {
    "ExecuteTime": {
     "end_time": "2021-04-11T16:22:59.866166Z",
     "start_time": "2021-04-11T16:22:30.607555Z"
    }
   },
   "outputs": [
    {
     "name": "stdout",
     "output_type": "stream",
     "text": [
      "Path Already Exists\n"
     ]
    },
    {
     "data": {
      "image/png": "[encoded data removed]",
      "text/plain": [
       "<Figure size 432x288 with 1 Axes>"
      ]
     },
     "metadata": {
      "needs_background": "light"
     },
     "output_type": "display_data"
    },
    {
     "data": {
      "image/png": "[encoded data removed]",
      "text/plain": [
       "<Figure size 432x288 with 1 Axes>"
      ]
     },
     "metadata": {
      "needs_background": "light"
     },
     "output_type": "display_data"
    },
    {
     "data": {
      "image/png": "[encoded data removed]",
      "text/plain": [
       "<Figure size 432x288 with 1 Axes>"
      ]
     },
     "metadata": {
      "needs_background": "light"
     },
     "output_type": "display_data"
    },
    {
     "data": {
      "image/png": "[encoded data removed]",
      "text/plain": [
       "<Figure size 432x288 with 1 Axes>"
      ]
     },
     "metadata": {
      "needs_background": "light"
     },
     "output_type": "display_data"
    },
    {
     "data": {
      "image/png": "[encoded data removed]",
      "text/plain": [
       "<Figure size 432x288 with 1 Axes>"
      ]
     },
     "metadata": {
      "needs_background": "light"
     },
     "output_type": "display_data"
    },
    {
     "data": {
      "image/png": "[encoded data removed]",
      "text/plain": [
       "<Figure size 432x288 with 1 Axes>"
      ]
     },
     "metadata": {
      "needs_background": "light"
     },
     "output_type": "display_data"
    }
   ],
   "source": [
    "try:\n",
    "    os.mkdir('./output/test_Data')\n",
    "except:\n",
    "    print('Path Already Exists')\n",
    "\n",
    "width,height=500,500\n",
    "\n",
    "win=tk.Tk()\n",
    "\n",
    "font_btn='Helvetica 20 bold'\n",
    "font_label='Helvetica 24 bold'\n",
    "count=0\n",
    "\n",
    "\n",
    "\n",
    "def event_function(event):\n",
    "\n",
    "    x=event.x       #x coordinate of mouse pointer\n",
    "    y=event.y       #y coordinate of mouse pointer\n",
    "\n",
    "    x1=x-20\n",
    "    y1=y-20\n",
    "\n",
    "    x2=x+20\n",
    "    y2=y+20\n",
    "    \n",
    "    canvas.create_oval((x1,y1,x2,y2),fill='black')\n",
    "    img_draw.ellipse((x1,y1,x2,y2),fill='white')\n",
    "\n",
    "def save():\n",
    "\n",
    "    global count\n",
    "    \n",
    "    img_array=np.array(img)\n",
    "    img_array=cv2.resize(img_array,(28,28))\n",
    "\n",
    "    path=os.path.join('./output/test_Data',str(count)+'.jpg')\n",
    "    \n",
    "    cv2.imwrite(path,img_array)\n",
    "\n",
    "    count=count+1\n",
    "\n",
    "def clear():\n",
    "\n",
    "    global img,img_draw\n",
    "\n",
    "    canvas.delete('all')\n",
    "    img=Image.new('RGB',(width,height),(0,0,0))\n",
    "    img_draw=ImageDraw.Draw(img)\n",
    "    label_status.config(text='PREDICTED DIGIT: NONE')\n",
    "\n",
    "def predict():\n",
    "    global img\n",
    "\n",
    "    img_array=np.array(img) #converting to numpy array\n",
    "    img_array=cv2.cvtColor(img_array,cv2.COLOR_BGR2GRAY) #converting into a gray image\n",
    "    img_array1=cv2.resize(img_array.T,(28,28)) #resizing into 28x28    # T to be compatible with the train data\n",
    "\n",
    "    img_array=np.reshape(img_array1,(1,784))  \n",
    "    img_array=img_array/255.0\n",
    "\n",
    "    result=clf.predict(img_array)\n",
    "\n",
    "    label_status.config(text='PREDICTED DIGIT:'+str(result))\n",
    "    plt.imshow(img_array1.T, cmap='gray',)\n",
    "    plt.show()\n",
    "    \n",
    "canvas=tk.Canvas(win,width=width,height=height,bg='white')\n",
    "canvas.grid(row=0,column=0,columnspan=4)\n",
    "\n",
    "canvas.bind('<B1-Motion>',event_function)\n",
    "img=Image.new('RGB',(width,height),(0,0,0))\n",
    "img_draw=ImageDraw.Draw(img)\n",
    "\n",
    "button_save=tk.Button(win,text='SAVE',bg='green',fg='white',font=font_btn,command=save)\n",
    "button_save.grid(row=1,column=0)\n",
    "\n",
    "button_predict=tk.Button(win,text='PREDICT',bg='blue',fg='white',font=font_btn,command=predict)\n",
    "button_predict.grid(row=1,column=1)\n",
    "\n",
    "button_clear=tk.Button(win,text='CLEAR',bg='yellow',fg='white',font=font_btn,command=clear)\n",
    "button_clear.grid(row=1,column=2)\n",
    "\n",
    "button_exit=tk.Button(win,text='EXIT',bg='red',fg='white',font=font_btn,command=win.destroy)\n",
    "button_exit.grid(row=1,column=3)\n",
    "\n",
    "label_status=tk.Label(win,text='PREDICTED DIGIT: NONE',bg='white',font=font_label)\n",
    "label_status.grid(row=2,column=0,columnspan=4)\n",
    "\n",
    "\n",
    "win.mainloop()"
   ]
  },
  {
   "cell_type": "markdown",
   "metadata": {},
   "source": [
    "# Refrences \n",
    "\n",
    "Thanks to @aieml in:    https://github.com/aieml/APDY-Tutorial-04/blob/dd74b88646127b473f1fe5fa14c7ba6c92d6779c/2.0%20GUI%20Handwritten%20Digits.ipynb"
   ]
  },
  {
   "cell_type": "code",
   "execution_count": null,
   "metadata": {},
   "outputs": [],
   "source": []
  }
 ],
 "metadata": {
  "kernelspec": {
   "display_name": "Python 3",
   "language": "python",
   "name": "python3"
  },
  "language_info": {
   "codemirror_mode": {
    "name": "ipython",
    "version": 3
   },
   "file_extension": ".py",
   "mimetype": "text/x-python",
   "name": "python",
   "nbconvert_exporter": "python",
   "pygments_lexer": "ipython3",
   "version": "3.7.4"
  },
  "toc": {
   "base_numbering": 1,
   "nav_menu": {},
   "number_sections": true,
   "sideBar": true,
   "skip_h1_title": false,
   "title_cell": "Table of Contents",
   "title_sidebar": "Contents",
   "toc_cell": false,
   "toc_position": {},
   "toc_section_display": true,
   "toc_window_display": true
  }
 },
 "nbformat": 4,
 "nbformat_minor": 4
}
